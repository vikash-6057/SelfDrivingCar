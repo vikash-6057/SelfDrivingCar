{
  "nbformat": 4,
  "nbformat_minor": 0,
  "metadata": {
    "colab": {
      "name": "SelfDrivingCAR.ipynb",
      "provenance": [],
      "collapsed_sections": []
    },
    "kernelspec": {
      "name": "python3",
      "display_name": "Python 3"
    }
  },
  "cells": [
    {
      "cell_type": "code",
      "metadata": {
        "id": "zBYULepp5Wh_",
        "colab": {
          "base_uri": "https://localhost:8080/",
          "height": 120
        },
        "outputId": "358d869e-d562-4f19-f4bf-d51b27c0bba8"
      },
      "source": [
        "from google.colab import drive\n",
        "drive.mount('/content/gdrive')"
      ],
      "execution_count": null,
      "outputs": [
        {
          "output_type": "stream",
          "text": [
            "Go to this URL in a browser: https://accounts.google.com/o/oauth2/auth?client_id=947318989803-6bn6qk8qdgf4n4g3pfee6491hc0brc4i.apps.googleusercontent.com&redirect_uri=urn%3Aietf%3Awg%3Aoauth%3A2.0%3Aoob&scope=email%20https%3A%2F%2Fwww.googleapis.com%2Fauth%2Fdocs.test%20https%3A%2F%2Fwww.googleapis.com%2Fauth%2Fdrive%20https%3A%2F%2Fwww.googleapis.com%2Fauth%2Fdrive.photos.readonly%20https%3A%2F%2Fwww.googleapis.com%2Fauth%2Fpeopleapi.readonly&response_type=code\n",
            "\n",
            "Enter your authorization code:\n",
            "··········\n",
            "Mounted at /content/gdrive\n"
          ],
          "name": "stdout"
        }
      ]
    },
    {
      "cell_type": "code",
      "metadata": {
        "id": "OTvghT9l5ZHK"
      },
      "source": [
        "import os\n",
        "import numpy as np\n",
        "import cv2\n",
        "from keras.preprocessing.image import ImageDataGenerator"
      ],
      "execution_count": 1,
      "outputs": []
    },
    {
      "cell_type": "code",
      "metadata": {
        "id": "PiCVdVtu5cL3"
      },
      "source": [
        "base_dir = '/content/gdrive/My Drive/data'\n",
        "direction_path = [ os.path.join(base_dir,p)  for p in os.listdir(base_dir)]"
      ],
      "execution_count": null,
      "outputs": []
    },
    {
      "cell_type": "code",
      "metadata": {
        "colab": {
          "base_uri": "https://localhost:8080/"
        },
        "id": "p-tmcJUSuC9B",
        "outputId": "c03732ff-ba8b-4da3-c29d-54621f763a82"
      },
      "source": [
        "from google.colab import drive\n",
        "drive.mount('/content/drive')"
      ],
      "execution_count": null,
      "outputs": [
        {
          "output_type": "stream",
          "text": [
            "Mounted at /content/drive\n"
          ],
          "name": "stdout"
        }
      ]
    },
    {
      "cell_type": "code",
      "metadata": {
        "id": "D495dPU85iBm",
        "colab": {
          "base_uri": "https://localhost:8080/",
          "height": 67
        },
        "outputId": "4340b117-5763-4150-dbe4-53522cdf1d6a"
      },
      "source": [
        "direction_path"
      ],
      "execution_count": null,
      "outputs": [
        {
          "output_type": "execute_result",
          "data": {
            "text/plain": [
              "['/content/gdrive/My Drive/data/Left_Data',\n",
              " '/content/gdrive/My Drive/data/Right_Data',\n",
              " '/content/gdrive/My Drive/data/Straight_Data']"
            ]
          },
          "metadata": {
            "tags": []
          },
          "execution_count": 10
        }
      ]
    },
    {
      "cell_type": "code",
      "metadata": {
        "id": "liJVaL355sWt"
      },
      "source": [
        "X = []\n",
        "Y = []\n",
        "for i,path in enumerate(direction_path):\n",
        "  j = 0\n",
        "  for img in os.listdir(path):\n",
        "    \n",
        "    if j == 1000:\n",
        "      break\n",
        "      \n",
        "    i = i%3\n",
        "    \n",
        "    img_path = os.path.join(path,img)\n",
        "    IMG = cv2.imread(img_path)\n",
        "    IMG = cv2.resize(IMG, (128,128))\n",
        "    IMG = np.array(IMG).astype('float32') / 255.\n",
        "    X.append(IMG)\n",
        "    Y.append(i)\n",
        "    j+=1"
      ],
      "execution_count": null,
      "outputs": []
    },
    {
      "cell_type": "code",
      "metadata": {
        "id": "OA_yKNAi6rmM",
        "colab": {
          "base_uri": "https://localhost:8080/",
          "height": 50
        },
        "outputId": "7bb1d8df-5d1e-42cb-bdae-fd7a6b3597d6"
      },
      "source": [
        "X1 = np.array(X)\n",
        "Y1 = np.array(Y)\n",
        "\n",
        "from keras.utils import to_categorical\n",
        "\n",
        "Y1 = to_categorical(Y1 , num_classes = 3)\n",
        "\n",
        "print(X1.shape)\n",
        "print(Y1.shape)"
      ],
      "execution_count": null,
      "outputs": [
        {
          "output_type": "stream",
          "text": [
            "(3000, 128, 128, 3)\n",
            "(3000, 3)\n"
          ],
          "name": "stdout"
        }
      ]
    },
    {
      "cell_type": "code",
      "metadata": {
        "id": "x7PdeGCN6yaY",
        "colab": {
          "base_uri": "https://localhost:8080/",
          "height": 84
        },
        "outputId": "b9b3155f-4a7a-4186-c84d-a92d50453e7e"
      },
      "source": [
        "from sklearn.model_selection import train_test_split\n",
        "\n",
        "X_train, X_test , y_train, y_test = train_test_split(X1, Y1, test_size = 0.2)\n",
        "\n",
        "\n",
        "print(X_train.shape)\n",
        "print(y_train.shape)\n",
        "print(X_test.shape)\n",
        "print(y_test.shape)"
      ],
      "execution_count": null,
      "outputs": [
        {
          "output_type": "stream",
          "text": [
            "(2400, 128, 128, 3)\n",
            "(2400, 3)\n",
            "(600, 128, 128, 3)\n",
            "(600, 3)\n"
          ],
          "name": "stdout"
        }
      ]
    },
    {
      "cell_type": "code",
      "metadata": {
        "id": "2MBnv00R64wn"
      },
      "source": [
        "from keras.layers import Conv2D, MaxPooling2D, Dense, Dropout, BatchNormalization, Flatten\n",
        "from keras.models import Sequential"
      ],
      "execution_count": null,
      "outputs": []
    },
    {
      "cell_type": "code",
      "metadata": {
        "id": "Q83oeZMW6_hV"
      },
      "source": [
        "model = Sequential()\n",
        "model.add(Conv2D(16 , kernel_size = (3,3) , strides = (2,2) , padding = 'same' , activation = 'relu', input_shape = (128,128,3)))\n",
        "model.add(MaxPooling2D(pool_size = (2,2)))  # 64x64x16\n",
        "model.add(BatchNormalization())\n",
        "\n",
        "model.add(Conv2D(32 , kernel_size = (3,3) , strides = (2,2) , padding = 'same' , activation = 'relu'))\n",
        "model.add(MaxPooling2D(pool_size = (2,2)))  # 32X32x32\n",
        "model.add(BatchNormalization())\n",
        "\n",
        "model.add(Conv2D(32 , kernel_size = (3,3) , strides = (2,2) , padding = 'same' , activation = 'relu'))\n",
        "model.add(MaxPooling2D(pool_size = (2,2)))  # 16x16x32\n",
        "model.add(BatchNormalization())\n",
        "\n",
        "model.add(Flatten())\n",
        "model.add(Dense(1024 , activation = 'relu'))\n",
        "model.add(Dropout(0.25))\n",
        "\n",
        "model.add(Dense(512 , activation = 'relu'))\n",
        "model.add(Dropout(0.25))\n",
        "\n",
        "model.add(Dense(256 , activation = 'relu'))\n",
        "model.add(Dropout(0.25))\n",
        "\n",
        "model.add(Dense(128 , activation = 'relu'))\n",
        "model.add(Dropout(0.25))\n",
        "\n",
        "model.add(Dense(128 , activation = 'relu'))\n",
        "model.add(Dropout(0.25))\n",
        "\n",
        "model.add(Dense(3 , activation = 'softmax'))\n",
        "\n",
        "\n",
        "\n"
      ],
      "execution_count": null,
      "outputs": []
    },
    {
      "cell_type": "code",
      "metadata": {
        "id": "whxmAkYG7PWm",
        "colab": {
          "base_uri": "https://localhost:8080/",
          "height": 70
        },
        "outputId": "8f816c06-d3c9-4af4-9260-6e684816ac2e"
      },
      "source": [
        "model.compile(loss = 'categorical_crossentropy' , optimizer = 'adam', metrics = ['accuracy'])"
      ],
      "execution_count": null,
      "outputs": [
        {
          "output_type": "stream",
          "text": [
            "WARNING:tensorflow:From /usr/local/lib/python3.6/dist-packages/keras/optimizers.py:793: The name tf.train.Optimizer is deprecated. Please use tf.compat.v1.train.Optimizer instead.\n",
            "\n"
          ],
          "name": "stdout"
        }
      ]
    },
    {
      "cell_type": "code",
      "metadata": {
        "id": "avN3vbvW7k18",
        "colab": {
          "base_uri": "https://localhost:8080/",
          "height": 288
        },
        "outputId": "7340ae72-b72b-496a-f83c-c4ed2c522ef2"
      },
      "source": [
        "model.fit(X_train, y_train, epochs = 5, validation_split = 0.1, batch_size = 16)"
      ],
      "execution_count": null,
      "outputs": [
        {
          "output_type": "stream",
          "text": [
            "WARNING:tensorflow:From /usr/local/lib/python3.6/dist-packages/tensorflow/python/ops/math_grad.py:1250: add_dispatch_support.<locals>.wrapper (from tensorflow.python.ops.array_ops) is deprecated and will be removed in a future version.\n",
            "Instructions for updating:\n",
            "Use tf.where in 2.0, which has the same broadcast rule as np.where\n",
            "Train on 2160 samples, validate on 240 samples\n",
            "Epoch 1/5\n",
            "2160/2160 [==============================] - 10s 5ms/step - loss: 0.5446 - acc: 0.7875 - val_loss: 0.7360 - val_acc: 0.8083\n",
            "Epoch 2/5\n",
            "2160/2160 [==============================] - 8s 4ms/step - loss: 0.3744 - acc: 0.8731 - val_loss: 0.5208 - val_acc: 0.8375\n",
            "Epoch 3/5\n",
            "2160/2160 [==============================] - 8s 4ms/step - loss: 0.3139 - acc: 0.9000 - val_loss: 0.2965 - val_acc: 0.9000\n",
            "Epoch 4/5\n",
            "2160/2160 [==============================] - 9s 4ms/step - loss: 0.2653 - acc: 0.9167 - val_loss: 0.3919 - val_acc: 0.8792\n",
            "Epoch 5/5\n",
            "2160/2160 [==============================] - 9s 4ms/step - loss: 0.2211 - acc: 0.9213 - val_loss: 0.2887 - val_acc: 0.8875\n"
          ],
          "name": "stdout"
        },
        {
          "output_type": "execute_result",
          "data": {
            "text/plain": [
              "<keras.callbacks.History at 0x7f6036a87438>"
            ]
          },
          "metadata": {
            "tags": []
          },
          "execution_count": 20
        }
      ]
    },
    {
      "cell_type": "code",
      "metadata": {
        "id": "NlaBL4ud7ojh",
        "colab": {
          "base_uri": "https://localhost:8080/",
          "height": 50
        },
        "outputId": "53aab7f7-9e5c-4b85-e584-d6ce577cdb98"
      },
      "source": [
        "model.evaluate(X_test,y_test)"
      ],
      "execution_count": null,
      "outputs": [
        {
          "output_type": "stream",
          "text": [
            "600/600 [==============================] - 1s 1ms/step\n"
          ],
          "name": "stdout"
        },
        {
          "output_type": "execute_result",
          "data": {
            "text/plain": [
              "[0.27738917072614033, 0.8999999992052714]"
            ]
          },
          "metadata": {
            "tags": []
          },
          "execution_count": 21
        }
      ]
    },
    {
      "cell_type": "code",
      "metadata": {
        "id": "T_Ux0iEw75VN",
        "colab": {
          "base_uri": "https://localhost:8080/",
          "height": 485
        },
        "outputId": "2e638206-ab79-4124-b791-25b3836d155a"
      },
      "source": [
        "model.predict_classes(X_test)"
      ],
      "execution_count": null,
      "outputs": [
        {
          "output_type": "execute_result",
          "data": {
            "text/plain": [
              "array([2, 2, 0, 2, 1, 1, 1, 2, 2, 0, 2, 2, 2, 2, 2, 0, 0, 0, 0, 2, 1, 1,\n",
              "       1, 0, 2, 2, 2, 1, 0, 0, 1, 0, 1, 0, 0, 1, 0, 1, 2, 1, 2, 2, 0, 0,\n",
              "       0, 1, 0, 1, 0, 2, 2, 1, 2, 1, 1, 0, 1, 2, 1, 2, 0, 2, 0, 0, 1, 1,\n",
              "       1, 1, 2, 2, 2, 2, 2, 2, 0, 2, 2, 0, 0, 2, 2, 2, 1, 1, 1, 1, 1, 2,\n",
              "       2, 0, 0, 2, 0, 0, 0, 2, 2, 1, 2, 0, 0, 0, 2, 1, 2, 2, 1, 0, 1, 2,\n",
              "       2, 0, 2, 2, 1, 1, 1, 1, 0, 0, 1, 1, 2, 0, 2, 0, 0, 2, 1, 0, 0, 2,\n",
              "       2, 2, 0, 0, 0, 0, 2, 0, 0, 2, 2, 2, 1, 0, 2, 1, 2, 0, 1, 2, 2, 1,\n",
              "       1, 2, 2, 1, 2, 0, 0, 0, 0, 2, 2, 0, 0, 0, 2, 1, 1, 0, 0, 2, 1, 2,\n",
              "       0, 0, 2, 0, 1, 2, 0, 2, 1, 2, 0, 0, 0, 1, 1, 1, 2, 0, 2, 0, 2, 1,\n",
              "       0, 1, 2, 1, 1, 1, 2, 2, 2, 2, 2, 2, 1, 0, 1, 0, 1, 1, 1, 2, 1, 0,\n",
              "       2, 1, 1, 2, 1, 0, 0, 0, 0, 2, 2, 2, 1, 0, 1, 2, 0, 1, 1, 2, 2, 1,\n",
              "       1, 2, 2, 1, 2, 0, 0, 1, 2, 2, 0, 1, 0, 0, 2, 0, 0, 2, 1, 0, 1, 2,\n",
              "       2, 2, 0, 1, 1, 2, 1, 2, 2, 0, 2, 0, 1, 1, 2, 2, 1, 1, 2, 0, 0, 2,\n",
              "       0, 1, 2, 2, 0, 0, 0, 0, 2, 0, 2, 2, 2, 1, 1, 1, 0, 1, 0, 1, 2, 0,\n",
              "       2, 0, 2, 2, 2, 1, 1, 0, 1, 0, 1, 0, 0, 0, 2, 2, 0, 1, 1, 1, 1, 1,\n",
              "       2, 1, 1, 0, 1, 1, 2, 1, 0, 1, 2, 2, 2, 0, 0, 0, 1, 0, 1, 0, 0, 1,\n",
              "       2, 0, 0, 1, 1, 1, 0, 1, 1, 1, 1, 0, 2, 2, 0, 0, 2, 2, 2, 1, 2, 2,\n",
              "       2, 1, 1, 1, 0, 0, 1, 1, 1, 0, 1, 0, 0, 2, 1, 0, 1, 2, 0, 1, 1, 2,\n",
              "       0, 2, 1, 0, 2, 1, 1, 0, 1, 0, 0, 2, 1, 0, 0, 2, 2, 2, 1, 0, 1, 0,\n",
              "       1, 1, 0, 1, 0, 1, 0, 0, 0, 1, 0, 1, 2, 1, 1, 0, 2, 0, 2, 0, 1, 1,\n",
              "       0, 1, 1, 1, 1, 2, 1, 2, 0, 2, 2, 1, 0, 2, 0, 1, 1, 1, 0, 0, 0, 1,\n",
              "       2, 0, 0, 2, 0, 2, 1, 2, 1, 0, 1, 1, 0, 2, 1, 2, 1, 2, 0, 2, 1, 0,\n",
              "       0, 0, 0, 1, 2, 2, 0, 0, 1, 0, 0, 1, 1, 1, 2, 0, 0, 0, 0, 1, 0, 2,\n",
              "       1, 1, 0, 0, 0, 1, 0, 0, 1, 0, 1, 1, 0, 2, 1, 1, 2, 2, 0, 0, 0, 1,\n",
              "       2, 1, 1, 0, 2, 2, 0, 1, 2, 0, 2, 2, 1, 0, 2, 2, 2, 2, 1, 0, 2, 0,\n",
              "       1, 1, 2, 0, 0, 2, 2, 2, 0, 0, 0, 0, 1, 2, 0, 2, 1, 1, 2, 0, 2, 0,\n",
              "       1, 1, 2, 1, 2, 2, 2, 2, 0, 0, 2, 1, 1, 2, 0, 2, 2, 0, 0, 2, 2, 0,\n",
              "       2, 2, 0, 0, 2, 2])"
            ]
          },
          "metadata": {
            "tags": []
          },
          "execution_count": 22
        }
      ]
    },
    {
      "cell_type": "code",
      "metadata": {
        "id": "BERe0dbX77wx"
      },
      "source": [
        "model.save(\"model.h7\")\n"
      ],
      "execution_count": null,
      "outputs": []
    }
  ]
}